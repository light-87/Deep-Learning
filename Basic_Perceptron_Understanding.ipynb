{
  "nbformat": 4,
  "nbformat_minor": 0,
  "metadata": {
    "colab": {
      "name": "Basic-Perceptron-Understanding.ipynb",
      "provenance": []
    },
    "kernelspec": {
      "name": "python3",
      "display_name": "Python 3"
    },
    "language_info": {
      "name": "python"
    },
    "accelerator": "GPU"
  },
  "cells": [
    {
      "cell_type": "markdown",
      "source": [
        "# Perceptron Logic Gates\n",
        "In this project, we will use perceptrons to model the fundamental building blocks of computers — logic gates.\n",
        "\n",
        "1] Creating and visualizing AND Data"
      ],
      "metadata": {
        "id": "c2mtWe5-6fRF"
      }
    },
    {
      "cell_type": "code",
      "source": [
        "from matplotlib import pyplot as plt\n",
        "from sklearn.linear_model import Perceptron\n",
        "import numpy as np\n",
        "from itertools import product\n"
      ],
      "metadata": {
        "id": "6AihwvNm7ITt"
      },
      "execution_count": 18,
      "outputs": []
    },
    {
      "cell_type": "code",
      "source": [
        "data_AND = [[0,1],[1,0],[1,1],[0,0]]\n",
        "label_AND = [0,0,1,0]\n",
        "plt.scatter([i[0] for i in data_AND],[i[1] for i in data_AND],c=label_AND)\n",
        "plt.title('Logic Gate (AND)')"
      ],
      "metadata": {
        "colab": {
          "base_uri": "https://localhost:8080/",
          "height": 298
        },
        "id": "gsVC_hed6moQ",
        "outputId": "d2b5f3fc-0aaf-423f-94ca-cca4492ab5f7"
      },
      "execution_count": 5,
      "outputs": [
        {
          "output_type": "execute_result",
          "data": {
            "text/plain": [
              "Text(0.5, 1.0, 'Logic Gate (AND)')"
            ]
          },
          "metadata": {},
          "execution_count": 5
        },
        {
          "output_type": "display_data",
          "data": {
            "image/png": "[encoded data removed]",
            "text/plain": [
              "<Figure size 432x288 with 1 Axes>"
            ]
          },
          "metadata": {
            "needs_background": "light"
          }
        }
      ]
    },
    {
      "cell_type": "markdown",
      "source": [
        "The data is linearly separable because we can draw a straight line that completely separates the points of each class.\n",
        "\n",
        "### Building the Perceptron\n"
      ],
      "metadata": {
        "id": "BlEDJZ9f7vb9"
      }
    },
    {
      "cell_type": "code",
      "source": [
        "classifier1  = Perceptron(max_iter = 40)\n",
        "classifier1.fit(data_AND,label_AND)\n",
        "print(classifier1.score(data_AND,label_AND))"
      ],
      "metadata": {
        "colab": {
          "base_uri": "https://localhost:8080/"
        },
        "id": "Y8B0vEF67URe",
        "outputId": "bff80c05-6ce5-43b4-f083-79b3313bf92b"
      },
      "execution_count": 13,
      "outputs": [
        {
          "output_type": "stream",
          "name": "stdout",
          "text": [
            "1.0\n"
          ]
        }
      ]
    },
    {
      "cell_type": "markdown",
      "source": [
        "it is pretty unusual to train and test on the same dataset. In this case, since there are only four possible inputs to AND, we’re stuck training on every possible input and testing on those same points. Our perceptron have 100% accuracy because the data is linealy seperable.\n",
        "\n",
        "\n",
        "2] Creating and visualizing XOR gate"
      ],
      "metadata": {
        "id": "e2iy4ihs8fco"
      }
    },
    {
      "cell_type": "code",
      "source": [
        "data_XOR = [[0,1],[1,0],[1,1],[0,0]]\n",
        "label_XOR = [1,1,0,0]\n",
        "plt.scatter([i[0] for i in data_XOR],[i[1] for i in data_XOR],c=label_XOR)\n",
        "plt.title('Logic Gate (XOR)')"
      ],
      "metadata": {
        "colab": {
          "base_uri": "https://localhost:8080/",
          "height": 298
        },
        "id": "qrFT2VvF8bzh",
        "outputId": "99913dcb-2130-49ac-fa15-29776726d58f"
      },
      "execution_count": 10,
      "outputs": [
        {
          "output_type": "execute_result",
          "data": {
            "text/plain": [
              "Text(0.5, 1.0, 'Logic Gate (XOR)')"
            ]
          },
          "metadata": {},
          "execution_count": 10
        },
        {
          "output_type": "display_data",
          "data": {
            "image/png": "[encoded data removed]",
            "text/plain": [
              "<Figure size 432x288 with 1 Axes>"
            ]
          },
          "metadata": {
            "needs_background": "light"
          }
        }
      ]
    },
    {
      "cell_type": "markdown",
      "source": [
        "The data is not linearly separable because we cannot draw a straight line that completely separates the points of each class.\n",
        "\n",
        "### Building the Perceptron\n"
      ],
      "metadata": {
        "id": "1nEgNVlX9WAW"
      }
    },
    {
      "cell_type": "code",
      "source": [
        "classifier2  = Perceptron(max_iter = 40)\n",
        "classifier2.fit(data_XOR,label_XOR)\n",
        "print(classifier2.score(data_XOR,label_XOR))"
      ],
      "metadata": {
        "colab": {
          "base_uri": "https://localhost:8080/"
        },
        "id": "wJxmQknp9EWq",
        "outputId": "b6d0bcac-3105-46a8-8838-b2bc5edc0b4e"
      },
      "execution_count": 12,
      "outputs": [
        {
          "output_type": "stream",
          "name": "stdout",
          "text": [
            "0.5\n"
          ]
        }
      ]
    },
    {
      "cell_type": "markdown",
      "source": [
        "Our perceptron have 50% accuracy because the data is not linealy seperable.\n",
        "\n",
        "# Visualizing the Perceptron"
      ],
      "metadata": {
        "id": "bzsmy5YD9k7s"
      }
    },
    {
      "cell_type": "code",
      "source": [
        "print(classifier1.decision_function([[0, 0], [1, 1], [0.5, 0.5]]))"
      ],
      "metadata": {
        "colab": {
          "base_uri": "https://localhost:8080/"
        },
        "id": "VbSor5tv9d0a",
        "outputId": "8e155b31-2529-43c9-ef12-0475bf7d8919"
      },
      "execution_count": 14,
      "outputs": [
        {
          "output_type": "stream",
          "name": "stdout",
          "text": [
            "[-3.  1. -1.]\n"
          ]
        }
      ]
    },
    {
      "cell_type": "markdown",
      "source": [
        "Given a list of points, this method returns the distance those points are from the decision boundary.\n",
        "\n",
        "Even though an input like [0.5, 0.5] isn’t a real input to an AND logic gate, we can still check to see how far it is from the decision boundary"
      ],
      "metadata": {
        "id": "6GsWHCzv-X7A"
      }
    },
    {
      "cell_type": "code",
      "source": [
        "x_values = np.linspace(0,1,100)\n",
        "y_values = np.linspace(0,1,100)\n",
        "point_grid = list(product(x_values,y_values))\n",
        "distances = classifier1.decision_function(point_grid)\n",
        "abs_distances = [abs(i) for i in distances]\n",
        "distance_matrix = np.reshape(abs_distances,(100,100))\n",
        "heatmap = plt.pcolormesh(x_values,y_values,distance_matrix)\n",
        "plt.colorbar(heatmap)\n",
        "plt.title('Visualizing Decesion Boundary')"
      ],
      "metadata": {
        "colab": {
          "base_uri": "https://localhost:8080/",
          "height": 298
        },
        "id": "53uKkpjg-Utf",
        "outputId": "43f4dbd8-3999-44e7-df66-d5dc2c997279"
      },
      "execution_count": 26,
      "outputs": [
        {
          "output_type": "execute_result",
          "data": {
            "text/plain": [
              "Text(0.5, 1.0, 'Visualizing Decesion Boundary')"
            ]
          },
          "metadata": {},
          "execution_count": 26
        },
        {
          "output_type": "display_data",
          "data": {
            "image/png": "[encoded data removed]",
            "text/plain": [
              "<Figure size 432x288 with 2 Axes>"
            ]
          },
          "metadata": {
            "needs_background": "light"
          }
        }
      ]
    },
    {
      "cell_type": "markdown",
      "source": [
        "We now have a great visualization of what the perceptron is doing. We should see a purple line where the distances are 0. That’s the decision boundary!"
      ],
      "metadata": {
        "id": "JsJGHlJqAD2T"
      }
    }
  ]
}